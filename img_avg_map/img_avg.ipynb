{
 "cells": [
  {
   "cell_type": "markdown",
   "metadata": {},
   "source": [
    "# Averaging Function"
   ]
  },
  {
   "cell_type": "code",
   "execution_count": 1,
   "metadata": {},
   "outputs": [],
   "source": [
    "from pathlib import Path\n",
    "import sys\n",
    "sys.path.append('../')\n",
    "from pma_open import *\n"
   ]
  },
  {
   "cell_type": "code",
   "execution_count": 2,
   "metadata": {},
   "outputs": [
    {
     "name": "stdout",
     "output_type": "stream",
     "text": [
      "Image Size: 512 x 512\n",
      "Image Size: 512 x 512\n",
      "Sucessfully generated average frame\n",
      "Average frame saved as: hel1_Avg_Frame.png\n"
     ]
    }
   ],
   "source": [
    "file_path = '../hel1.pma'\n",
    "avg_frame_png(file_path)\n",
    "\n",
    "image_path = \"hel1_Avg_Frame/hel1_Avg_Frame.png\""
   ]
  },
  {
   "cell_type": "code",
   "execution_count": 3,
   "metadata": {},
   "outputs": [
    {
     "name": "stdout",
     "output_type": "stream",
     "text": [
      "Image Size: 512 x 512\n",
      "Sucessfully generated average frame\n",
      "Average Frame Data- shape: (512, 512)\n",
      "Average Frame Data- Type: <class 'numpy.ndarray'>\n",
      "Average Frame Data- dType: uint8\n",
      "First line of Average Frame Data: [ 7  7  7  7  8  8  8  8  8  8  8  8  8  8  8  8  8  8  8  8  8  8  8  8\n",
      "  8  8  8  8  8  8  8  8  8  8  9  9  9  9  9  9  9  9  9  9  9  9  9  9\n",
      "  9  9  9  9 10 10 10 10 10 10 10 10 10 11 11 11 11 11 12 12 12 12 13 14\n",
      " 15 16 17 17 17 17 17 17 18 22 31 40 42 34 24 19 17 16 14 13 13 12 12 13\n",
      " 14 14 13 13 13 13 12 12 12 12 11 11 11 11 12 12 12 12 13 13 13 19 35 58\n",
      " 70 60 35 18 15 15 14 12 12 12 12 12 12 12 11 11 10 10 10 10 10 10 10 10\n",
      " 10 10 10 10 10 10 10  9  9 10 10 10 10 10  9  9  9  9  9 10 10  9  9 10\n",
      " 10 10 10 10 10 10 10 10 10 10 10 10 10 10 10 11 11 11 12 12 12 11 12 15\n",
      " 20 25 26 21 15 13 12 12 11 11 11 11 11 10 10 10 10 10 10 10 10 10 10 10\n",
      " 10 10 10 10 10 10 10 10 10 10 10 10 10 10  9  9  9  9  9  9  9  9  9  9\n",
      " 10 10 10 11 10 10 10  9  9  9  9  9  9  9  9  9  9  9  9  9  9  9  9  9\n",
      "  9  9  9  9  9  9  8  8  8  8  8  8  8  8  8  8  8  8  8  8  8  8  8  8\n",
      "  8  8  8  8  8  8  8  8  8  8  8  9  9  9  9  9  9  9  9  9  9  9  9  9\n",
      "  9  9  9  9  9  9  9 10 10 10 10 10 10 10 10 10 10 10 10 11 11 11 12 12\n",
      " 13 14 14 16 21 32 45 55 57 48 33 21 16 14 14 12 12 11 11 11 11 12 12 11\n",
      " 11 10 10 10 10 10 10 10 10 10 10 10 10 10 10 10 11 12 12 12 13 14 18 22\n",
      " 24 23 19 14 11 11 11 10 10 10 10  9  9  9  9  9  9  9  9  9  9  9  9  9\n",
      "  9  9  9  9  9  9  9  9  9  9  9  9  9  9  9  9  9  9  9  9  9  9  9  9\n",
      "  9  9  9  9  9  9  9  9  9  9 10 10 10 10 10 10 10 10 10 10 11 11 11 11\n",
      " 10 10 10 10 10  9  9  9  9  9  9  9  9  9  9  9  9  9  9  9  9  9  9  9\n",
      "  9  9  9  9  9  9  9  9  9  8  8  8  8  8  8  8  8  8  8  8  8  8  8  8\n",
      "  8  8  8  8  8  8  8  8]\n"
     ]
    }
   ],
   "source": [
    "avg_frame_data = avg_frame_arr(file_path)\n",
    "print(f\"Average Frame Data- shape: {avg_frame_data.shape}\")\n",
    "print(f\"Average Frame Data- Type: {type(avg_frame_data)}\")\n",
    "print(f\"Average Frame Data- dType: {avg_frame_data.dtype}\")\n",
    "print(f\"First line of Average Frame Data: {avg_frame_data[0]}\")"
   ]
  },
  {
   "cell_type": "code",
   "execution_count": 4,
   "metadata": {},
   "outputs": [
    {
     "name": "stderr",
     "output_type": "stream",
     "text": [
      "[ WARN:0@2.119] global loadsave.cpp:268 findDecoder imread_('/hel1_Avg_Frame/hel1_Avg_Frame.png'): can't open/read file: check file path/integrity\n"
     ]
    },
    {
     "ename": "error",
     "evalue": "OpenCV(4.11.0) :-1: error: (-5:Bad argument) in function 'cvtColor'\n> Overload resolution failed:\n>  - src is not a numpy array, neither a scalar\n>  - Expected Ptr<cv::UMat> for argument 'src'\n",
     "output_type": "error",
     "traceback": [
      "\u001b[0;31m---------------------------------------------------------------------------\u001b[0m",
      "\u001b[0;31merror\u001b[0m                                     Traceback (most recent call last)",
      "Cell \u001b[0;32mIn[4], line 3\u001b[0m\n\u001b[1;32m      1\u001b[0m avg_frame_path\u001b[38;5;241m=\u001b[39m \u001b[38;5;124m\"\u001b[39m\u001b[38;5;124m/hel1_Avg_Frame/hel1_Avg_Frame.png\u001b[39m\u001b[38;5;124m\"\u001b[39m\n\u001b[1;32m      2\u001b[0m src \u001b[38;5;241m=\u001b[39m cv2\u001b[38;5;241m.\u001b[39mimread(avg_frame_path)\n\u001b[0;32m----> 3\u001b[0m gray_img \u001b[38;5;241m=\u001b[39m \u001b[43mcv2\u001b[49m\u001b[38;5;241;43m.\u001b[39;49m\u001b[43mcvtColor\u001b[49m\u001b[43m(\u001b[49m\u001b[43mavg_frame_path\u001b[49m\u001b[43m,\u001b[49m\u001b[43m \u001b[49m\u001b[43mcv2\u001b[49m\u001b[38;5;241;43m.\u001b[39;49m\u001b[43mCOLOR_BGR2GRAY\u001b[49m\u001b[43m)\u001b[49m \n\u001b[1;32m      5\u001b[0m \u001b[38;5;66;03m# # Shi-Tomasi corner detection function \u001b[39;00m\n\u001b[1;32m      6\u001b[0m \u001b[38;5;66;03m# # We are detecting only 100 best corners here \u001b[39;00m\n\u001b[1;32m      7\u001b[0m \u001b[38;5;66;03m# # You can change the number to get desired result. \u001b[39;00m\n\u001b[0;32m   (...)\u001b[0m\n\u001b[1;32m     23\u001b[0m \u001b[38;5;66;03m# if cv2.waitKey(0) & 0xff == 27:  \u001b[39;00m\n\u001b[1;32m     24\u001b[0m \u001b[38;5;66;03m#     cv2.destroyAllWindows() \u001b[39;00m\n",
      "\u001b[0;31merror\u001b[0m: OpenCV(4.11.0) :-1: error: (-5:Bad argument) in function 'cvtColor'\n> Overload resolution failed:\n>  - src is not a numpy array, neither a scalar\n>  - Expected Ptr<cv::UMat> for argument 'src'\n"
     ]
    }
   ],
   "source": [
    "avg_frame_path= \"/hel1_Avg_Frame/hel1_Avg_Frame.png\"\n",
    "src = cv2.imread(avg_frame_path)\n",
    "gray_img = cv2.cvtColor(avg_frame_path, cv2.COLOR_BGR2GRAY) \n",
    "  \n",
    "# # Shi-Tomasi corner detection function \n",
    "# # We are detecting only 100 best corners here \n",
    "# # You can change the number to get desired result. \n",
    "# corners = cv2.goodFeaturesToTrack(gray_img, 100, 0.01, 10) \n",
    "  \n",
    "# # convert corners values to integer \n",
    "# # So that we will be able to draw circles on them \n",
    "# corners = np.int0(corners) \n",
    "  \n",
    "# # draw red color circles on all corners \n",
    "# for i in corners: \n",
    "#     x, y = i.ravel() \n",
    "#     cv2.circle(img, (x, y), 3, (255, 0, 0), -1) \n",
    "  \n",
    "# # resulting image \n",
    "# plt.imshow(img) \n",
    "  \n",
    "# # De-allocate any associated memory usage   \n",
    "# if cv2.waitKey(0) & 0xff == 27:  \n",
    "#     cv2.destroyAllWindows() "
   ]
  },
  {
   "cell_type": "code",
   "execution_count": null,
   "metadata": {},
   "outputs": [
    {
     "ename": "error",
     "evalue": "OpenCV(4.11.0) /Users/runner/work/opencv-python/opencv-python/opencv/modules/imgproc/src/corner.cpp:254: error: (-215:Assertion failed) src.type() == CV_8UC1 || src.type() == CV_32FC1 in function 'cornerEigenValsVecs'\n",
     "output_type": "error",
     "traceback": [
      "\u001b[0;31m---------------------------------------------------------------------------\u001b[0m",
      "\u001b[0;31merror\u001b[0m                                     Traceback (most recent call last)",
      "Cell \u001b[0;32mIn[4], line 1\u001b[0m\n\u001b[0;32m----> 1\u001b[0m corners \u001b[38;5;241m=\u001b[39m \u001b[43mcv2\u001b[49m\u001b[38;5;241;43m.\u001b[39;49m\u001b[43mgoodFeaturesToTrack\u001b[49m\u001b[43m(\u001b[49m\u001b[43mavg_frame_data\u001b[49m\u001b[43m,\u001b[49m\u001b[38;5;241;43m25\u001b[39;49m\u001b[43m,\u001b[49m\u001b[38;5;241;43m0.01\u001b[39;49m\u001b[43m,\u001b[49m\u001b[38;5;241;43m10\u001b[39;49m\u001b[43m)\u001b[49m\n\u001b[1;32m      2\u001b[0m \u001b[38;5;66;03m# corners = np.int0(corners)\u001b[39;00m\n\u001b[1;32m      3\u001b[0m \n\u001b[1;32m      4\u001b[0m \u001b[38;5;66;03m# for i in corners:\u001b[39;00m\n\u001b[0;32m   (...)\u001b[0m\n\u001b[1;32m      7\u001b[0m  \n\u001b[1;32m      8\u001b[0m \u001b[38;5;66;03m# plt.imshow(img),plt.show()\u001b[39;00m\n",
      "\u001b[0;31merror\u001b[0m: OpenCV(4.11.0) /Users/runner/work/opencv-python/opencv-python/opencv/modules/imgproc/src/corner.cpp:254: error: (-215:Assertion failed) src.type() == CV_8UC1 || src.type() == CV_32FC1 in function 'cornerEigenValsVecs'\n"
     ]
    }
   ],
   "source": [
    "# corners = cv2.goodFeaturesToTrack(avg_frame_data,25,0.01,10)\n",
    "# corners = np.int0(corners)\n",
    "\n",
    "# for i in corners:\n",
    "#     x,y = i.ravel()\n",
    "#     cv2.circle(img,(x,y),3,255,-1)\n",
    " \n",
    "# plt.imshow(img),plt.show()"
   ]
  },
  {
   "cell_type": "code",
   "execution_count": null,
   "metadata": {},
   "outputs": [
    {
     "ename": "error",
     "evalue": "OpenCV(4.11.0) /Users/runner/work/opencv-python/opencv-python/opencv/modules/imgproc/src/color.simd_helpers.hpp:92: error: (-15:Bad number of channels) in function 'cv::impl::(anonymous namespace)::CvtHelper<cv::impl::(anonymous namespace)::Set<3, 4>, cv::impl::(anonymous namespace)::Set<1>, cv::impl::(anonymous namespace)::Set<0, 2, 5>>::CvtHelper(InputArray, OutputArray, int) [VScn = cv::impl::(anonymous namespace)::Set<3, 4>, VDcn = cv::impl::(anonymous namespace)::Set<1>, VDepth = cv::impl::(anonymous namespace)::Set<0, 2, 5>, sizePolicy = cv::impl::(anonymous namespace)::NONE]'\n> Invalid number of channels in input image:\n>     'VScn::contains(scn)'\n> where\n>     'scn' is 1\n",
     "output_type": "error",
     "traceback": [
      "\u001b[0;31m---------------------------------------------------------------------------\u001b[0m",
      "\u001b[0;31merror\u001b[0m                                     Traceback (most recent call last)",
      "Cell \u001b[0;32mIn[6], line 2\u001b[0m\n\u001b[1;32m      1\u001b[0m \u001b[38;5;66;03m# convert image to grayscale \u001b[39;00m\n\u001b[0;32m----> 2\u001b[0m gray_img \u001b[38;5;241m=\u001b[39m \u001b[43mcv2\u001b[49m\u001b[38;5;241;43m.\u001b[39;49m\u001b[43mcvtColor\u001b[49m\u001b[43m(\u001b[49m\u001b[43mavg_frame_data\u001b[49m\u001b[43m,\u001b[49m\u001b[43m \u001b[49m\u001b[43mcv2\u001b[49m\u001b[38;5;241;43m.\u001b[39;49m\u001b[43mCOLOR_BGR2GRAY\u001b[49m\u001b[43m)\u001b[49m \n\u001b[1;32m      4\u001b[0m \u001b[38;5;66;03m# # Shi-Tomasi corner detection function \u001b[39;00m\n\u001b[1;32m      5\u001b[0m \u001b[38;5;66;03m# # We are detecting only 100 best corners here \u001b[39;00m\n\u001b[1;32m      6\u001b[0m \u001b[38;5;66;03m# # You can change the number to get desired result. \u001b[39;00m\n\u001b[0;32m   (...)\u001b[0m\n\u001b[1;32m     22\u001b[0m \u001b[38;5;66;03m# if cv2.waitKey(0) & 0xff == 27:  \u001b[39;00m\n\u001b[1;32m     23\u001b[0m \u001b[38;5;66;03m#     cv2.destroyAllWindows() \u001b[39;00m\n",
      "\u001b[0;31merror\u001b[0m: OpenCV(4.11.0) /Users/runner/work/opencv-python/opencv-python/opencv/modules/imgproc/src/color.simd_helpers.hpp:92: error: (-15:Bad number of channels) in function 'cv::impl::(anonymous namespace)::CvtHelper<cv::impl::(anonymous namespace)::Set<3, 4>, cv::impl::(anonymous namespace)::Set<1>, cv::impl::(anonymous namespace)::Set<0, 2, 5>>::CvtHelper(InputArray, OutputArray, int) [VScn = cv::impl::(anonymous namespace)::Set<3, 4>, VDcn = cv::impl::(anonymous namespace)::Set<1>, VDepth = cv::impl::(anonymous namespace)::Set<0, 2, 5>, sizePolicy = cv::impl::(anonymous namespace)::NONE]'\n> Invalid number of channels in input image:\n>     'VScn::contains(scn)'\n> where\n>     'scn' is 1\n"
     ]
    }
   ],
   "source": [
    "# convert image to grayscale \n",
    "\n",
    "gray_img = cv2.cvtColor(avg_frame_data, cv2.COLOR_BGR2GRAY) \n",
    "  \n",
    "# # Shi-Tomasi corner detection function \n",
    "# # We are detecting only 100 best corners here \n",
    "# # You can change the number to get desired result. \n",
    "# corners = cv2.goodFeaturesToTrack(gray_img, 100, 0.01, 10) \n",
    "  \n",
    "# # convert corners values to integer \n",
    "# # So that we will be able to draw circles on them \n",
    "# corners = np.int0(corners) \n",
    "  \n",
    "# # draw red color circles on all corners \n",
    "# for i in corners: \n",
    "#     x, y = i.ravel() \n",
    "#     cv2.circle(img, (x, y), 3, (255, 0, 0), -1) \n",
    "  \n",
    "# # resulting image \n",
    "# plt.imshow(img) \n",
    "  \n",
    "# # De-allocate any associated memory usage   \n",
    "# if cv2.waitKey(0) & 0xff == 27:  \n",
    "#     cv2.destroyAllWindows() "
   ]
  }
 ],
 "metadata": {
  "kernelspec": {
   "display_name": ".venv",
   "language": "python",
   "name": "python3"
  },
  "language_info": {
   "codemirror_mode": {
    "name": "ipython",
    "version": 3
   },
   "file_extension": ".py",
   "mimetype": "text/x-python",
   "name": "python",
   "nbconvert_exporter": "python",
   "pygments_lexer": "ipython3",
   "version": "3.9.6"
  }
 },
 "nbformat": 4,
 "nbformat_minor": 2
}
