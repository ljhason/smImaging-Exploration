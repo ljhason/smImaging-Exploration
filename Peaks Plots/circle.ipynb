{
 "cells": [
  {
   "cell_type": "code",
   "execution_count": 1,
   "metadata": {},
   "outputs": [],
   "source": [
    "from pathlib import Path\n",
    "import sys\n",
    "sys.path.append('../')\n",
    "from pma_open import *\n",
    "\n",
    "\n",
    "#My image\n",
    "file_path = 'Dropbox Files/hel1.pma'\n",
    "image_path = \"../Channel Mapping/hel1_Avg_Frame/hel1_Avg_Frame.png\"\n",
    "image = io.imread(image_path, as_gray=True)\n",
    "\n",
    "#Chanel image paths\n",
    "CH1_img_path = \"../Channel Mapping/hel1_Avg_Frame/hel1_Avg_Frame_CH1.png\"\n",
    "CH2_img_path = \"../Channel Mapping/hel1_Avg_Frame/hel1_Avg_Frame_CH2.png\"\n",
    "\n",
    "good_peaks_1,_ = good_peak_finder(CH1_img_path)\n",
    "good_peaks_2_new,_ = good_peak_finder(CH2_img_path, sigma=2, block_size=16, scaler_percent=10, boarder=10, max_rad=3)\n",
    "\n",
    "# Move good_peaks_1 to CH2 to display full image\n",
    "good_peaks_1_CH2 = shift_peaks(good_peaks_1)\n",
    "good_peaks_2_CH2 = shift_peaks(good_peaks_2_new)\n",
    "\n",
    "# Poly Mapping\n",
    "CH1_peaks_10 = np.array([[55,63], [14, 194], [179, 45], [115, 172], [273, 65], [257, 192], [358, 91], [365, 199], [419, 44], [449, 205]])\n",
    "CH2_peaks_10 = np.array([[60, 322], [18, 453], [183, 304], [119, 431], [276, 323], [258, 450], [359, 350], [364, 456], [420, 301], [446, 462]])\n",
    "\n",
    "params_x_man_10, params_y_man_10 = find_polyfit_params(CH1_peaks_10, CH2_peaks_10, degree=3)\n",
    "mapped_peaks_10 = apply_polyfit_params(good_peaks_1, params_x_man_10, params_y_man_10).astype(np.uint16)\n",
    "poly_pair_count_tol4_10, poly_pair_arr_CH1_tol4_10, poly_pair_arr_CH2_tol4_10 = find_polyfit_pairs(mapped_peaks_10, good_peaks_1, tolerance=4)\n"
   ]
  },
  {
   "cell_type": "code",
   "execution_count": 2,
   "metadata": {},
   "outputs": [
    {
     "name": "stdout",
     "output_type": "stream",
     "text": [
      "First CH1 peak: [493 135]\n"
     ]
    }
   ],
   "source": [
    "print(f\"First CH1 peak: {poly_pair_arr_CH1_tol4_10[0]}\")"
   ]
  },
  {
   "cell_type": "code",
   "execution_count": 3,
   "metadata": {},
   "outputs": [],
   "source": [

    "# Midpoint circle algorithm \n",
    "def draw_circle(radius, y_centre, x_centre, background_dim, colour = [255, 255, 0]):\n",
    "\n",
    "    diameter = 2 * radius + 1\n",
    "    circle_array = np.zeros((background_dim, background_dim, 3), dtype=np.uint8)\n",
    "    \n",
    "\n",
    "#     # Midpoint circle algorithm\n",
    "#     x = radius\n",
    "#     y = 0\n",
    "#     p = 1 - radius\n",
    "    \n",
    "    while x >= y:\n",
    "        circle_array[x_centre + x, y_centre + y] = colour\n",
    "        circle_array[x_centre - x, y_centre + y] = colour\n",
    "        circle_array[x_centre + x, y_centre - y] = colour\n",
    "        circle_array[x_centre - x, y_centre - y] = colour\n",
    "        circle_array[x_centre + y, y_centre + x] = colour\n",
    "        circle_array[x_centre - y, y_centre + x] = colour\n",
    "        circle_array[x_centre + y, y_centre - x] = colour\n",
    "        circle_array[x_centre - y, y_centre - x] = colour\n",
    "        \n",
    "#         y += 1\n",
    "#         if p <= 0:\n",
    "#             p = p + 2 * y + 1\n",
    "#         else:\n",
    "#             x -= 1\n",
    "#             p = p + 2 * y - 2 * x + 1\n",
    "    \n",
    "#     return circle_array"
   ]
  },
  {
   "cell_type": "code",
   "execution_count": 4,
   "metadata": {},
   "outputs": [
    {
     "name": "stdout",
     "output_type": "stream",
     "text": [
      "[ 6 15]\n"
     ]
    },
    {
     "data": {
      "text/plain": [
       "<matplotlib.image.AxesImage at 0x12746f0d0>"
      ]
     },
     "execution_count": 3,
     "metadata": {},
     "output_type": "execute_result"
    },
    {
     "data": {
      "image/png": "iVBORw0KGgoAAAANSUhEUgAAAaAAAAGdCAYAAABU0qcqAAAAOXRFWHRTb2Z0d2FyZQBNYXRwbG90bGliIHZlcnNpb24zLjkuNCwgaHR0cHM6Ly9tYXRwbG90bGliLm9yZy8ekN5oAAAACXBIWXMAAA9hAAAPYQGoP6dpAAAUVklEQVR4nO3dT2xVZd7A8eeKpaLSIgItHQqC/0h0hklQkDiuIKALMiALx7iohrhQNEFiTFgAmpg0ajIxTojuNC5kHBZgdEGiiCWTKZpgWJgYAgwTIFAYSdoCChh63pzzvvSl8q/QW3739n4+yTP13p72njk9vV/OuU/PLWVZliUAuMFuutEPCAA5AQIghAABEEKAAAghQACEECAAQggQACEECIAQN6cK09fXlw4fPpzGjh2bSqVS9OoAcI3y6xucOHEitbS0pJtuuql6ApTHp7W1NXo1ABiigwcPpilTplTPKbj8yAeA6ne15/OKC5DTbgAjw9Wez4ctQOvXr0933XVXuuWWW9LcuXPTd999N1wPBUAVGpYAffrpp2nVqlVp3bp16fvvv0+zZs1KixYtSseOHRuOhwOgGmXDYM6cOdmKFSv6b587dy5raWnJ2tvbr/q1PT09+dtDGIZhGKm6R/58fiVlPwI6e/Zs2rlzZ1qwYEH/ffk0vPx2Z2fnRcufOXMm9fb2DhgAjHxlD9BPP/2Uzp07l5qamgbcn9/u6uq6aPn29vbU2NjYP0zBBqgN4bPgVq9enXp6evpHPm8cgJGv7H+IOmHChDRq1Kh09OjRAffnt5ubmy9avr6+vhgA1JayHwGNHj06zZ49O23dunXA5XXy2/PmzSv3wwFQpYblUjz5FOy2trb00EMPpTlz5qR33303nTp1Kj333HPD8XAAVKFhCdBTTz2V/vvf/6a1a9cWEw/++Mc/pi1btlw0MQGA2lXK52KnCpJPw85nwwFQ3fKJZQ0NDZU7Cw6A2iRAAIQQIABCCBAAIQQIgBACBEAIAQIghAABEEKAAAghQACEECAAQggQACEECIAQAgRACAECYOS8IR2DV1nvxlS5SqXoNQDKzREQACEECIAQAgRACAECIIQAARBCgAAIIUAAhBAgAEIIEAAhBAiAEAIEQAgBAiCEAAEQwtWwg69o7SrPg2Mbw8jjCAiAEAIEQAgBAiCEAAEQQoAACCFAAIQQIABCCBAAIQQIgBACBEAIAQIghAABEEKAAAghQACE8HYMZbjkv8v9D7+hbGNv5QCVyREQACEECIAQAgRACAECIIQAARBCgAAIIUAAhBAgAEIIEAAhBAiAEAIEQAgBAiCEAAEQQoAACCFAAIQQIABCCBAAIQQIgJERoNdffz2VSqUBY+bMmeV+GACq3M3D8U0feOCB9NVXX/3/g9w8LA8DQBUbljLkwWlubh6Obw3ACDEsrwHt2bMntbS0pBkzZqRnnnkmHThw4LLLnjlzJvX29g4YAIx8ZQ/Q3Llz00cffZS2bNmS3n///bR///702GOPpRMnTlxy+fb29tTY2Ng/Wltby71KAFSgUpZl2XA+QHd3d5o2bVr661//mpYvX37JI6B8nJcfAUVF6Hq3RKlU7jWhnIayh/vZwvXr6elJDQ0Nl/38sM8OGDduXLrvvvvS3r17L/n5+vr6YgBQW4b974BOnjyZ9u3blyZPnjzcDwVALQfo1VdfTR0dHek///lP+te//pWWLl2aRo0alZ5++ulyPxQAVazsp+AOHTpUxOb48eNp4sSJ6U9/+lPasWNH8d8AcMMmIVyrfBJCPhsugkkII5NJCFCZkxBcCw6AEAIEQAgBAiCEAAEQQoAACCFAAIQQIABCCBAAIQQIgBACBEAIAQIghAABEEKAAAghQACEECAAQggQACEECIAQAgRACAECIIQAARBCgAAIIUAAhBAgAEIIEAAhBAiAEAIEQAgBAiCEAAEQQoAACCFAAIQQIABCCBAAIQQIgBACBEAIAQIghAABEEKAAAghQACEECAAQggQACEECIAQAgRACAECIIQAARDi5piHrUyl0vV9XZbd+MesNbYxjDyOgAAIIUAAhBAgAEIIEAAhBAiAEAIEQAgBAiCEAAEQQoAACCFAAIQQIABCCBAAIQQIgBACBEAIb8dQBkO53P9Q3maglnhLBRh5HAEBEEKAAAghQABUR4C2b9+eFi9enFpaWlKpVEqbN28e8Pksy9LatWvT5MmT05gxY9KCBQvSnj17yrnOANRigE6dOpVmzZqV1q9ff8nPv/322+m9995LH3zwQfr222/TbbfdlhYtWpROnz5djvUFYKTIhiD/8k2bNvXf7uvry5qbm7N33nmn/77u7u6svr4+27Bhw6C+Z09PT/F9a2VkmTGYEf1zMgwjXfPIn8+vpKyvAe3fvz91dXUVp93Oa2xsTHPnzk2dnZ2X/JozZ86k3t7eAQOAka+sAcrjk2tqahpwf377/Od+q729vYjU+dHa2lrOVQKgQoXPglu9enXq6enpHwcPHoxeJQCqLUDNzc3Fx6NHjw64P799/nO/VV9fnxoaGgYMAEa+sgZo+vTpRWi2bt3af1/+mk4+G27evHnlfCgAau1acCdPnkx79+4dMPFg165dafz48Wnq1Klp5cqV6c0330z33ntvEaQ1a9YUfzO0ZMmScq87ANXsWqdeb9u27ZLT7dra2vqnYq9ZsyZramoqpl/Pnz8/271796C/v2nYhmnYhpFqYhp2Kf+fVEHyU3b5bLhaUVlbv3K5GjZUn3xi2ZVe1/d2DME8sfJb/lEyOH53ql/4NGwAapMAARBCgAAIIUAAhBAgAEIIEAAhBAiAEAIEQAgBAiCEAAEQQoAACCFAAIQQIABCCBAAIbwdA1TY2yp4m4Hhf9sK27gyOAICIIQAARBCgAAIIUAAhBAgAEIIEAAhBAiAEAIEQAgBAiCEAAEQQoAACCFAAIQQIABCuBo2XIErLleuoWxfP9fK4AgIgBACBEAIAQIghAABEEKAAAghQACEECAAQggQACEECIAQAgRACAECIIQAARBCgAAIIUAAhBAgAEIIEAAhBAiAEAIEQAgBAiCEAAEQQoAACCFAAIQQIABCCBAAIQQIgBACBEAIAQIghAABEEKAAAghQACEECAAQggQACEECIDqCND27dvT4sWLU0tLSyqVSmnz5s0DPv/ss88W9184Hn/88XKuMwC1GKBTp06lWbNmpfXr1192mTw4R44c6R8bNmwY6noCMMLcfK1f8MQTTxTjSurr61Nzc/NQ1guAEW5YXgP65ptv0qRJk9L999+fXnjhhXT8+PHLLnvmzJnU29s7YAAw8pU9QPnpt48//jht3bo1vfXWW6mjo6M4Yjp37twll29vb0+NjY39o7W1tdyrBEAFKmVZll33F5dKadOmTWnJkiWXXebf//53uvvuu9NXX32V5s+ff8kjoHyclx8BiRCV4vp/O/Lfj3KuCeXk53pj9PT0pIaGhrhp2DNmzEgTJkxIe/fuvezrRfkKXjgAGPmGPUCHDh0qXgOaPHnycD8UACN5FtzJkycHHM3s378/7dq1K40fP74Yb7zxRlq2bFkxC27fvn3ptddeS/fcc09atGhRudcdgGqWXaNt27blZ08vGm1tbdnPP/+cLVy4MJs4cWJWV1eXTZs2LXv++eezrq6uQX//np6eS35/w4gYWXb9I3rdDT/XFDzy5/MrGdIkhOGQT0LIZ8NBJfBi9cjk51ojkxAA4FIECIAQAgRACAECIIQAARBCgAAIIUAAhBAgAEIIEAAhBAiAEAIEQAgBAiCEAAEQQoAACCFAAIQQIABCCBAAIQQIgBACBEAIAQIghAABEEKAAAghQACEECAAQggQACEECIAQAgRACAECIIQAARDi5piHhepQKl3/12bZjX/MWnK92zdnG1cGR0AAhBAgAEIIEAAhBAiAEAIEQAgBAiCEAAEQQoAACCFAAIQQIABCCBAAIQQIgBACBEAIAQIghLdjgGFyvZf8H8rbDNQSb6lQ/RwBARBCgAAIIUAAhBAgAEIIEAAhBAiAEAIEQAgBAiCEAAEQQoAACCFAAIQQIABCCBAAIQQIgBDejgEqjLcZoFY4AgIghAABEEKAAKj8ALW3t6eHH344jR07Nk2aNCktWbIk7d69e8Ayp0+fTitWrEh33nlnuv3229OyZcvS0aNHy73eANRSgDo6Ooq47NixI3355Zfp119/TQsXLkynTp3qX+aVV15Jn3/+edq4cWOx/OHDh9OTTz45HOsOQDXLhuDYsWNZ/i06OjqK293d3VldXV22cePG/mV+/PHHYpnOzs5Bfc+enp5iecMwDCNV9cifz69kSK8B9fT0FB/Hjx9ffNy5c2dxVLRgwYL+ZWbOnJmmTp2aOjs7L/k9zpw5k3p7ewcMAEa+6w5QX19fWrlyZXr00UfTgw8+WNzX1dWVRo8encaNGzdg2aampuJzl3tdqbGxsX+0trZe7yoBUAsByl8L+uGHH9Lf//73Ia3A6tWriyOp8+PgwYND+n4AjOArIbz00kvpiy++SNu3b09Tpkzpv7+5uTmdPXs2dXd3DzgKymfB5Z+7lPr6+mIAUFuu6Qgoy7IiPps2bUpff/11mj59+oDPz549O9XV1aWtW7f235dP0z5w4ECaN29e+dYagNo6AspPu33yySfps88+K/4W6PzrOvlrN2PGjCk+Ll++PK1ataqYmNDQ0JBefvnlIj6PPPLIcP1/AKAaXcu068tNtfvwww/7l/nll1+yF198MbvjjjuyW2+9NVu6dGl25MiRQT+GadiGYRipJqZhl/4vLBUjn4adH0kBUN3yiWX5mbDLcS04AEIIEAAhBAiAEAIEQAgBAiCEAAEQQoAACCFAAIQQIABCCBAAIQQIgBACBEAIAQIghAABEEKAAAghQACEECAAQggQACEECIAQAgRACAECIIQAARBCgAAIIUAAhBAgAEIIEAAhBAiAEAIEQAgBAiCEAAEQQoAACCFAAIQQIABCCBAAIQQIgBACBEAIAQIghAABEEKAAAghQACEECAAQggQACEECIAQAgRACAECIIQAARBCgAAIIUAAhBAgAEIIEAAhBAiAEAIEQAgBAiCEAAEQQoAACCFAAIQQIABCCBAAISouQFmWRa8CADfg+bziAnTixInoVQDgBjyfl7IKO+To6+tLhw8fTmPHjk2lUumiz/f29qbW1tZ08ODB1NDQELKO1cB2Ghzb6epso8Gxnf5fnpU8Pi0tLemmmy5/nHNzqjD5yk6ZMuWqy+U/4Fr/IQ+G7TQ4ttPV2UaDYzv9r8bGxnQ1FXcKDoDaIEAAhKi6ANXX16d169YVH7k822lwbKers40Gx3a6dhU3CQGA2lB1R0AAjAwCBEAIAQIghAABEKKqArR+/fp01113pVtuuSXNnTs3fffdd9GrVFFef/314uoRF46ZM2emWrd9+/a0ePHi4q+y822yefPmAZ/P5+GsXbs2TZ48OY0ZMyYtWLAg7dmzJ9Waq22nZ5999qL96/HHH0+1pr29PT388MPF1VomTZqUlixZknbv3j1gmdOnT6cVK1akO++8M91+++1p2bJl6ejRo2HrXKmqJkCffvppWrVqVTHN8fvvv0+zZs1KixYtSseOHYtetYrywAMPpCNHjvSPf/7zn6nWnTp1qthf8n/AXMrbb7+d3nvvvfTBBx+kb7/9Nt12223FvpU/idSSq22nXB6cC/evDRs2pFrT0dFRxGXHjh3pyy+/TL/++mtauHBhsf3Oe+WVV9Lnn3+eNm7cWCyfX17sySefDF3vipRViTlz5mQrVqzov33u3LmspaUla29vD12vSrJu3bps1qxZ0atR0fJdftOmTf23+/r6subm5uydd97pv6+7uzurr6/PNmzYkNWq326nXFtbW/bnP/85bJ0q1bFjx4rt1dHR0b//1NXVZRs3buxf5scffyyW6ezsDFzTylMVR0Bnz55NO3fuLE6NXHjNuPx2Z2dn6LpVmvzUUX4KZcaMGemZZ55JBw4ciF6lirZ///7U1dU1YN/Kr2GVn+K1b13sm2++KU473X///emFF15Ix48fT7Wup6en+Dh+/PjiY/5clR8VXbhP5afCp06dap/6jaoI0E8//ZTOnTuXmpqaBtyf386fPPhf+ZPmRx99lLZs2ZLef//94sn1scce8xYXV3B+/7FvXV1++u3jjz9OW7duTW+99VZxaumJJ54ofjdrVX71/pUrV6ZHH300Pfjgg8V9+X4zevToNG7cuAHL2qeq4GrYXL/8yeC8P/zhD0WQpk2blv7xj3+k5cuXh64b1e8vf/lL/3///ve/L/axu+++uzgqmj9/fqpF+WtBP/zwg9daR/IR0IQJE9KoUaMumkWS325ubg5br0qX/wvsvvvuS3v37o1elYp1fv+xb127/DRv/rtZq/vXSy+9lL744ou0bdu2AW8hk+83+csG3d3dA5a3T1VpgPLD2dmzZxeH/hce+ua3582bF7pulezkyZNp3759xfRiLm369OnFk8KF+1b+xmL5bDj71pUdOnSoeA2o1vavfI5GHp9Nmzalr7/+utiHLpQ/V9XV1Q3Yp/Jp2vnrsfapKj0Fl0/BbmtrSw899FCaM2dOevfdd4tpj88991z0qlWMV199tfg7jvy0Wz7tM5+ynh85Pv3006nWQ3zhv9Lz18Z27dpVvGicvzCcn8N/880307333ls8maxZs6aYyJH/fUctudJ2yscbb7xR/D1LHuz8HzavvfZauueee4op67V22u2TTz5Jn332WfG3QOdf18knr+R/R5Z/zE95589Z+XbL35zu5ZdfLuLzyCOPRK9+ZcmqyN/+9rds6tSp2ejRo4tp2Tt27IhepYry1FNPZZMnTy62z+9+97vi9t69e7Nat23btmIK7G9HPq34/FTsNWvWZE1NTcX06/nz52e7d+/Oas2VttPPP/+cLVy4MJs4cWIxxXjatGnZ888/n3V1dWW15lLbKB8ffvhh/zK//PJL9uKLL2Z33HFHduutt2ZLly7Njhw5ErrelcjbMQAQoipeAwJg5BEgAEIIEAAhBAiAEAIEQAgBAiCEAAEQQoAACCFAAIQQIABCCBAAIQQIgBThfwCxiJ9YLmPhbQAAAABJRU5ErkJggg==",
      "text/plain": [
       "<Figure size 640x480 with 1 Axes>"
      ]
     },
     "metadata": {},
     "output_type": "display_data"
    }
   ],
   "source": [
    "radius = 4\n",
    "background_dim= 25\n",
    "x_centre= np.array([6, 15])\n",
    "y_cetnre= np.array([6, 15])\n",
    "print(x_centre)\n",
    "circle_array = draw_circle(radius, x_centre, y_cetnre, background_dim)\n",
    "plt.imshow(circle_array)\n",
    "# # Display the circle using matplotlib\n",
    "# background = np.zeros((background_dim, background_dim, 3), dtype=np.uint8)\n",
    "# total_arr = np.add(background, circle_array)\n",
    "# plt.imshow(total_arr, cmap='gray')\n",
    "# plt.title('Tester: Pixelated Circles')\n",
    "# plt.show()\n",
    "\n",
    "# print(f\"Maximum element value in total_arr:{np.max(total_arr)}\")\n",
    "# print(total_arr)\n"
   ]
  },
  {
   "cell_type": "code",
   "execution_count": 7,
   "metadata": {},
   "outputs": [
    {
     "name": "stdout",
     "output_type": "stream",
     "text": [

      "[135 195  84 205 102]\n",
      "<class 'numpy.ndarray'>\n",
      "56\n",
      "56\n"
=======
      "Maximum element value in total_arr:255\n",
      "[[[  0   0   0]\n",
      "  [  0   0   0]\n",
      "  [  0   0   0]\n",
      "  [  0   0   0]\n",
      "  [  0   0   0]\n",
      "  [  0   0   0]\n",
      "  [  0   0   0]\n",
      "  [  0   0   0]\n",
      "  [  0   0   0]\n",
      "  [  0   0   0]\n",
      "  [  0   0   0]\n",
      "  [  0   0   0]]\n",
      "\n",
      " [[  0   0   0]\n",
      "  [  0   0   0]\n",
      "  [  0   0   0]\n",
      "  [  0   0   0]\n",
      "  [  0   0   0]\n",
      "  [  0   0   0]\n",
      "  [  0   0   0]\n",
      "  [  0   0   0]\n",
      "  [  0   0   0]\n",
      "  [  0   0   0]\n",
      "  [  0   0   0]\n",
      "  [  0   0   0]]\n",
      "\n",
      " [[  0   0   0]\n",
      "  [  0   0   0]\n",
      "  [  0   0   0]\n",
      "  [  0   0   0]\n",
      "  [255 255 255]\n",
      "  [255 255 255]\n",
      "  [255 255 255]\n",
      "  [255 255 255]\n",
      "  [255 255 255]\n",
      "  [  0   0   0]\n",
      "  [  0   0   0]\n",
      "  [  0   0   0]]\n",
      "\n",
      " [[  0   0   0]\n",
      "  [  0   0   0]\n",
      "  [  0   0   0]\n",
      "  [255 255 255]\n",
      "  [  0   0   0]\n",
      "  [  0   0   0]\n",
      "  [  0   0   0]\n",
      "  [  0   0   0]\n",
      "  [  0   0   0]\n",
      "  [255 255 255]\n",
      "  [  0   0   0]\n",
      "  [  0   0   0]]\n",
      "\n",
      " [[  0   0   0]\n",
      "  [  0   0   0]\n",
      "  [255 255 255]\n",
      "  [  0   0   0]\n",
      "  [  0   0   0]\n",
      "  [  0   0   0]\n",
      "  [  0   0   0]\n",
      "  [  0   0   0]\n",
      "  [  0   0   0]\n",
      "  [  0   0   0]\n",
      "  [255 255 255]\n",
      "  [  0   0   0]]\n",
      "\n",
      " [[  0   0   0]\n",
      "  [  0   0   0]\n",
      "  [255 255 255]\n",
      "  [  0   0   0]\n",
      "  [  0   0   0]\n",
      "  [  0   0   0]\n",
      "  [  0   0   0]\n",
      "  [  0   0   0]\n",
      "  [  0   0   0]\n",
      "  [  0   0   0]\n",
      "  [255 255 255]\n",
      "  [  0   0   0]]\n",
      "\n",
      " [[  0   0   0]\n",
      "  [  0   0   0]\n",
      "  [255 255 255]\n",
      "  [  0   0   0]\n",
      "  [  0   0   0]\n",
      "  [  0   0   0]\n",
      "  [  0   0   0]\n",
      "  [  0   0   0]\n",
      "  [  0   0   0]\n",
      "  [  0   0   0]\n",
      "  [255 255 255]\n",
      "  [  0   0   0]]\n",
      "\n",
      " [[  0   0   0]\n",
      "  [  0   0   0]\n",
      "  [255 255 255]\n",
      "  [  0   0   0]\n",
      "  [  0   0   0]\n",
      "  [  0   0   0]\n",
      "  [  0   0   0]\n",
      "  [  0   0   0]\n",
      "  [  0   0   0]\n",
      "  [  0   0   0]\n",
      "  [255 255 255]\n",
      "  [  0   0   0]]\n",
      "\n",
      " [[  0   0   0]\n",
      "  [  0   0   0]\n",
      "  [255 255 255]\n",
      "  [  0   0   0]\n",
      "  [  0   0   0]\n",
      "  [  0   0   0]\n",
      "  [  0   0   0]\n",
      "  [  0   0   0]\n",
      "  [  0   0   0]\n",
      "  [  0   0   0]\n",
      "  [255 255 255]\n",
      "  [  0   0   0]]\n",
      "\n",
      " [[  0   0   0]\n",
      "  [  0   0   0]\n",
      "  [  0   0   0]\n",
      "  [255 255 255]\n",
      "  [  0   0   0]\n",
      "  [  0   0   0]\n",
      "  [  0   0   0]\n",
      "  [  0   0   0]\n",
      "  [  0   0   0]\n",
      "  [255 255 255]\n",
      "  [  0   0   0]\n",
      "  [  0   0   0]]\n",
      "\n",
      " [[  0   0   0]\n",
      "  [  0   0   0]\n",
      "  [  0   0   0]\n",
      "  [  0   0   0]\n",
      "  [255 255 255]\n",
      "  [255 255 255]\n",
      "  [255 255 255]\n",
      "  [255 255 255]\n",
      "  [255 255 255]\n",
      "  [  0   0   0]\n",
      "  [  0   0   0]\n",
      "  [  0   0   0]]\n",
      "\n",
      " [[  0   0   0]\n",
      "  [  0   0   0]\n",
      "  [  0   0   0]\n",
      "  [  0   0   0]\n",
      "  [  0   0   0]\n",
      "  [  0   0   0]\n",
      "  [  0   0   0]\n",
      "  [  0   0   0]\n",
      "  [  0   0   0]\n",
      "  [  0   0   0]\n",
      "  [  0   0   0]\n",
      "  [  0   0   0]]]\n"
     ]
    }
   ],
   "source": [

    "print(poly_pair_arr_CH1_tol4_10[:5,1])\n",
    "print(type(poly_pair_arr_CH1_tol4_10))\n",
    "print(len(poly_pair_arr_CH1_tol4_10[:,1]))\n",
    "print(len(poly_pair_arr_CH1_tol4_10[:,1]))"
   ]
  },
  {
   "cell_type": "code",
   "execution_count": 18,
   "metadata": {},
   "outputs": [],
   "source": [
    "def plot_cicle(image, radius, y_centre, x_centre, background_dim, colour = [255, 255, 0]):\n",
    "    circle_array = draw_circle(4, y_centre, x_centre, image.shape[0])\n",
    "    mask = (circle_array == [255, 255, 0]).all(axis=-1)\n",
    "    try:\n",
    "        if image.ndim == 2:\n",
    "            image_3d = np.repeat(image[..., np.newaxis], 3, -1)\n",
    "        elif image.ndim==3 and image.shape[2]==3:\n",
    "            image_3d = image\n",
    "    except Exception as e:\n",
    "        print(f\"Error plotting circle: {e}\")\n",
    "        return None\n",
    "    \n",
    "    # Set the pixels in the mask to be yellow\n",
    "    image_3d[mask] = [255, 255, 0]\n",
    "    # Display the modified image\n",
    "\n",
    "    plt.imshow(image_3d)\n",
    "    plt.show()"
   ]
  },
  {
   "cell_type": "code",

   "execution_count": 19,
   "metadata": {},
   "outputs": [
    {
     "data": {

      "image/png": "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",
      "text/plain": [
       "<Figure size 640x480 with 1 Axes>"
      ]
     },
     "metadata": {},
     "output_type": "display_data"
    }
   ],
   "source": [

    "y_cen = np.concatenate((poly_pair_arr_CH1_tol4_10[:,1], poly_pair_arr_CH2_tol4_10[:,1]), axis=None)\n",
    "x_cen = np.concatenate((poly_pair_arr_CH1_tol4_10[:,0], poly_pair_arr_CH2_tol4_10[:,0]), axis=None)\n",
    "\n",
    "plot_cicle(image, 4, y_cen, x_cen, image.shape[0])"
   ]
  },
  {
   "cell_type": "code",
   "execution_count": null,
   "metadata": {},
   "outputs": [],
   "source": [
    "circle_array_hel1 = draw_circle(4, y_cen, x_cen, image.shape[0])\n",
    "\n",
    "mask = (circle_array_hel1 == [255, 255, 0]).all(axis=-1)\n",
    "image_3d = np.repeat(image[..., np.newaxis], 3, -1)\n",
    " \n",
    " # Set the pixels in the mask to be yellow\n",
    "image_3d[mask] = [255, 255, 0]\n",
    " # Display the modified image\n",
    "\n",
    "plt.imshow(image_3d)\n",
    "plt.show()"
   ]
  }
 ],
 "metadata": {
  "kernelspec": {
   "display_name": ".venv",
   "language": "python",
   "name": "python3"
  },
  "language_info": {
   "codemirror_mode": {
    "name": "ipython",
    "version": 3
   },
   "file_extension": ".py",
   "mimetype": "text/x-python",
   "name": "python",
   "nbconvert_exporter": "python",
   "pygments_lexer": "ipython3",
   "version": "3.9.6"
  }
 },
 "nbformat": 4,
 "nbformat_minor": 2
}
